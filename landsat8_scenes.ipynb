{
  "nbformat": 4,
  "nbformat_minor": 0,
  "metadata": {
    "colab": {
      "name": "Untitled12.ipynb",
      "provenance": [],
      "collapsed_sections": [
        "H1rfny2wuXZr",
        "M-WhRsDNt1so",
        "CpTokLKJw8F7",
        "uODL3OXfSfNb",
        "fx8jvaE6TopW",
        "jT-0HNChwsZ7",
        "Z-ddi1FpMwcA",
        "9hCQf8lXNG1z",
        "idkBMFYzNd6r",
        "n_9UDwPq0_i1",
        "asE_4zwa3CDV",
        "7i8aY0pl7kcl"
      ],
      "authorship_tag": "ABX9TyPle1AFmU+Rj9sWBFtAZhpp",
      "include_colab_link": true
    },
    "kernelspec": {
      "name": "python3",
      "display_name": "Python 3"
    },
    "language_info": {
      "name": "python"
    }
  },
  "cells": [
    {
      "cell_type": "markdown",
      "metadata": {
        "id": "view-in-github",
        "colab_type": "text"
      },
      "source": [
        "<a href=\"https://colab.research.google.com/github/EzequielAssis/Landsat8-satellite-scenes/blob/main/landsat8_scenes.ipynb\" target=\"_parent\"><img src=\"https://colab.research.google.com/assets/colab-badge.svg\" alt=\"Open In Colab\"/></a>"
      ]
    },
    {
      "cell_type": "markdown",
      "metadata": {
        "id": "H1rfny2wuXZr"
      },
      "source": [
        "##Instalações necessárias"
      ]
    },
    {
      "cell_type": "code",
      "execution_count": null,
      "metadata": {
        "id": "AFo3qyxHUMsb"
      },
      "outputs": [],
      "source": [
        "!pip install geopandas\n",
        "!pip install rtree\n",
        "!pip install pygeos\n",
        "!git clone https://github.com/EzequielAssis/Shapefiles.git"
      ]
    },
    {
      "cell_type": "markdown",
      "metadata": {
        "id": "M-WhRsDNt1so"
      },
      "source": [
        "##Importação de bibliotecas"
      ]
    },
    {
      "cell_type": "code",
      "execution_count": 13,
      "metadata": {
        "id": "65avglm62xue"
      },
      "outputs": [],
      "source": [
        "import requests\n",
        "import json\n",
        "import pandas as pd\n",
        "import numpy as np\n",
        "import copy\n",
        "import tarfile\n",
        "import matplotlib.pyplot as plt\n",
        "import geopandas as gpd\n",
        "import os"
      ]
    },
    {
      "cell_type": "markdown",
      "metadata": {
        "id": "CpTokLKJw8F7"
      },
      "source": [
        "##Leitura do shapefile"
      ]
    },
    {
      "cell_type": "code",
      "execution_count": 14,
      "metadata": {
        "id": "mtSFvdh4w8F8"
      },
      "outputs": [],
      "source": [
        "##PERNAMBUCO (remove-se Fernando de Noronha do shapefile)\n",
        "#br_shp = gpd.read_file('/content/Shapefiles/PE-MUN/26MUE250GC_SIR.shp')\n",
        "##Removendo Fernando de Noronha para melhor visualização do estado\n",
        "#rm_fn = br_shp.loc[br_shp['NM_MUNICIP'] == 'FERNANDO DE NORONHA'].index.values\n",
        "#shp = br_shp.drop(labels=rm_fn)"
      ]
    },
    {
      "cell_type": "code",
      "execution_count": 15,
      "metadata": {
        "id": "iVBmlgMPw8F9"
      },
      "outputs": [],
      "source": [
        "##Qualquer estado do Brasil\n",
        "#br_shp = gpd.read_file('/content/Shapefiles/Brasil/UFEBRASIL.shp')\n",
        "#br_shp['ID'] = [x for x in range(br_shp.shape[0])]\n",
        "#print('ESCOLHA DO ESTADO POR MEIO DO INDEX\\n\\n')\n",
        "#display(br_shp[['ID', 'NM_ESTADO']])\n",
        "#index = 16\n",
        "#shp = br_shp.loc[[index]]"
      ]
    },
    {
      "cell_type": "code",
      "execution_count": 16,
      "metadata": {
        "id": "Un0h6fhxzvsd"
      },
      "outputs": [],
      "source": [
        "##BRASIL\n",
        "#as_shp = gpd.read_file('/content/Shapefiles/shapefile_país/pais.shp')\n",
        "#shp = as_shp.loc[as_shp['NOME'] == 'BRASIL']\n",
        "#shp"
      ]
    },
    {
      "cell_type": "code",
      "execution_count": 17,
      "metadata": {
        "id": "fHwsoD6Jtbf-",
        "colab": {
          "base_uri": "https://localhost:8080/",
          "height": 0
        },
        "outputId": "58d6c3a7-9262-4a49-dd02-b5c095157c64"
      },
      "outputs": [
        {
          "output_type": "execute_result",
          "data": {
            "text/plain": [
              "   id      nome sigla                                           geometry\n",
              "3   4  Nordeste    NE  MULTIPOLYGON (((-35.15204 -8.91295, -35.15366 ..."
            ],
            "text/html": [
              "\n",
              "  <div id=\"df-8c326807-0bad-40fd-b3dd-d5200b5e49c8\">\n",
              "    <div class=\"colab-df-container\">\n",
              "      <div>\n",
              "<style scoped>\n",
              "    .dataframe tbody tr th:only-of-type {\n",
              "        vertical-align: middle;\n",
              "    }\n",
              "\n",
              "    .dataframe tbody tr th {\n",
              "        vertical-align: top;\n",
              "    }\n",
              "\n",
              "    .dataframe thead th {\n",
              "        text-align: right;\n",
              "    }\n",
              "</style>\n",
              "<table border=\"1\" class=\"dataframe\">\n",
              "  <thead>\n",
              "    <tr style=\"text-align: right;\">\n",
              "      <th></th>\n",
              "      <th>id</th>\n",
              "      <th>nome</th>\n",
              "      <th>sigla</th>\n",
              "      <th>geometry</th>\n",
              "    </tr>\n",
              "  </thead>\n",
              "  <tbody>\n",
              "    <tr>\n",
              "      <th>3</th>\n",
              "      <td>4</td>\n",
              "      <td>Nordeste</td>\n",
              "      <td>NE</td>\n",
              "      <td>MULTIPOLYGON (((-35.15204 -8.91295, -35.15366 ...</td>\n",
              "    </tr>\n",
              "  </tbody>\n",
              "</table>\n",
              "</div>\n",
              "      <button class=\"colab-df-convert\" onclick=\"convertToInteractive('df-8c326807-0bad-40fd-b3dd-d5200b5e49c8')\"\n",
              "              title=\"Convert this dataframe to an interactive table.\"\n",
              "              style=\"display:none;\">\n",
              "        \n",
              "  <svg xmlns=\"http://www.w3.org/2000/svg\" height=\"24px\"viewBox=\"0 0 24 24\"\n",
              "       width=\"24px\">\n",
              "    <path d=\"M0 0h24v24H0V0z\" fill=\"none\"/>\n",
              "    <path d=\"M18.56 5.44l.94 2.06.94-2.06 2.06-.94-2.06-.94-.94-2.06-.94 2.06-2.06.94zm-11 1L8.5 8.5l.94-2.06 2.06-.94-2.06-.94L8.5 2.5l-.94 2.06-2.06.94zm10 10l.94 2.06.94-2.06 2.06-.94-2.06-.94-.94-2.06-.94 2.06-2.06.94z\"/><path d=\"M17.41 7.96l-1.37-1.37c-.4-.4-.92-.59-1.43-.59-.52 0-1.04.2-1.43.59L10.3 9.45l-7.72 7.72c-.78.78-.78 2.05 0 2.83L4 21.41c.39.39.9.59 1.41.59.51 0 1.02-.2 1.41-.59l7.78-7.78 2.81-2.81c.8-.78.8-2.07 0-2.86zM5.41 20L4 18.59l7.72-7.72 1.47 1.35L5.41 20z\"/>\n",
              "  </svg>\n",
              "      </button>\n",
              "      \n",
              "  <style>\n",
              "    .colab-df-container {\n",
              "      display:flex;\n",
              "      flex-wrap:wrap;\n",
              "      gap: 12px;\n",
              "    }\n",
              "\n",
              "    .colab-df-convert {\n",
              "      background-color: #E8F0FE;\n",
              "      border: none;\n",
              "      border-radius: 50%;\n",
              "      cursor: pointer;\n",
              "      display: none;\n",
              "      fill: #1967D2;\n",
              "      height: 32px;\n",
              "      padding: 0 0 0 0;\n",
              "      width: 32px;\n",
              "    }\n",
              "\n",
              "    .colab-df-convert:hover {\n",
              "      background-color: #E2EBFA;\n",
              "      box-shadow: 0px 1px 2px rgba(60, 64, 67, 0.3), 0px 1px 3px 1px rgba(60, 64, 67, 0.15);\n",
              "      fill: #174EA6;\n",
              "    }\n",
              "\n",
              "    [theme=dark] .colab-df-convert {\n",
              "      background-color: #3B4455;\n",
              "      fill: #D2E3FC;\n",
              "    }\n",
              "\n",
              "    [theme=dark] .colab-df-convert:hover {\n",
              "      background-color: #434B5C;\n",
              "      box-shadow: 0px 1px 3px 1px rgba(0, 0, 0, 0.15);\n",
              "      filter: drop-shadow(0px 1px 2px rgba(0, 0, 0, 0.3));\n",
              "      fill: #FFFFFF;\n",
              "    }\n",
              "  </style>\n",
              "\n",
              "      <script>\n",
              "        const buttonEl =\n",
              "          document.querySelector('#df-8c326807-0bad-40fd-b3dd-d5200b5e49c8 button.colab-df-convert');\n",
              "        buttonEl.style.display =\n",
              "          google.colab.kernel.accessAllowed ? 'block' : 'none';\n",
              "\n",
              "        async function convertToInteractive(key) {\n",
              "          const element = document.querySelector('#df-8c326807-0bad-40fd-b3dd-d5200b5e49c8');\n",
              "          const dataTable =\n",
              "            await google.colab.kernel.invokeFunction('convertToInteractive',\n",
              "                                                     [key], {});\n",
              "          if (!dataTable) return;\n",
              "\n",
              "          const docLinkHtml = 'Like what you see? Visit the ' +\n",
              "            '<a target=\"_blank\" href=https://colab.research.google.com/notebooks/data_table.ipynb>data table notebook</a>'\n",
              "            + ' to learn more about interactive tables.';\n",
              "          element.innerHTML = '';\n",
              "          dataTable['output_type'] = 'display_data';\n",
              "          await google.colab.output.renderOutput(dataTable, element);\n",
              "          const docLink = document.createElement('div');\n",
              "          docLink.innerHTML = docLinkHtml;\n",
              "          element.appendChild(docLink);\n",
              "        }\n",
              "      </script>\n",
              "    </div>\n",
              "  </div>\n",
              "  "
            ]
          },
          "metadata": {},
          "execution_count": 17
        }
      ],
      "source": [
        "#Regiões do Brasil\n",
        "re_shp = gpd.read_file('/content/Shapefiles/regioes_do_Brasil/regioes_2010.shp')\n",
        "shp = re_shp.loc[re_shp['nome'] == 'Nordeste']\n",
        "shp"
      ]
    },
    {
      "cell_type": "code",
      "execution_count": 18,
      "metadata": {
        "id": "Pr5tkvQKw8F-",
        "colab": {
          "base_uri": "https://localhost:8080/",
          "height": 0
        },
        "outputId": "eca78914-ab31-4f0a-a8fc-00e52c26da91"
      },
      "outputs": [
        {
          "output_type": "execute_result",
          "data": {
            "text/plain": [
              "<matplotlib.axes._subplots.AxesSubplot at 0x7f7f87355450>"
            ]
          },
          "metadata": {},
          "execution_count": 18
        },
        {
          "output_type": "display_data",
          "data": {
            "text/plain": [
              "<Figure size 432x432 with 1 Axes>"
            ],
            "image/png": "[encoded data removed]"
          },
          "metadata": {
            "needs_background": "light"
          }
        }
      ],
      "source": [
        "fig, ax = plt.subplots(figsize=(6,6))\n",
        "shp.plot(ax=ax)"
      ]
    },
    {
      "cell_type": "code",
      "execution_count": 19,
      "metadata": {
        "id": "578nKkk5w8GA"
      },
      "outputs": [],
      "source": [
        "#A máxima e mínima de latitude e longitude\n",
        "xmin, ymin, xmax, ymax = shp.total_bounds\n",
        "\n",
        "xmin = xmin-0.05\n",
        "\n",
        "#Ajustado em -2 para corrigir a longitude do lado direito\n",
        "#Usar +0.05 na leitura de outros  shapefiles\n",
        "xmax = xmax-2\n",
        "\n",
        "ymin = ymin-0.05\n",
        "ymax = ymax+0.05\n",
        "\n",
        "size = 200"
      ]
    },
    {
      "cell_type": "code",
      "execution_count": 20,
      "metadata": {
        "colab": {
          "base_uri": "https://localhost:8080/",
          "height": 0
        },
        "id": "EDxOLFpDw8GB",
        "outputId": "ca3aeee4-992f-402a-e1c1-705f6a5a1718"
      },
      "outputs": [
        {
          "output_type": "display_data",
          "data": {
            "text/plain": [
              "<Figure size 432x432 with 1 Axes>"
            ],
            "image/png": "[encoded data removed]"
          },
          "metadata": {
            "needs_background": "light"
          }
        },
        {
          "output_type": "display_data",
          "data": {
            "text/plain": [
              "<Geographic 2D CRS: EPSG:4326>\n",
              "Name: WGS 84\n",
              "Axis Info [ellipsoidal]:\n",
              "- Lat[north]: Geodetic latitude (degree)\n",
              "- Lon[east]: Geodetic longitude (degree)\n",
              "Area of Use:\n",
              "- name: World.\n",
              "- bounds: (-180.0, -90.0, 180.0, 90.0)\n",
              "Datum: World Geodetic System 1984 ensemble\n",
              "- Ellipsoid: WGS 84\n",
              "- Prime Meridian: Greenwich"
            ]
          },
          "metadata": {}
        }
      ],
      "source": [
        "#Cria um shapefile retangular a paritr dos limites do shp acima\n",
        "from shapely.geometry import Polygon\n",
        "\n",
        "lat_point = [ymin, ymin, ymax, ymax]\n",
        "lon_point = [xmin, xmax, xmax, xmin]\n",
        "\n",
        "polygon_geom = Polygon(zip(lon_point, lat_point))\n",
        "\n",
        "crs = shp.crs #\n",
        "polygon_retang = gpd.GeoDataFrame(geometry=[polygon_geom], crs=crs)\n",
        "\n",
        "polygon_retang.plot(figsize=(6,6), color='blue')\n",
        "plt.show()\n",
        "display(crs)"
      ]
    },
    {
      "cell_type": "code",
      "execution_count": 21,
      "metadata": {
        "colab": {
          "base_uri": "https://localhost:8080/",
          "height": 0
        },
        "id": "1Yg186vKw8GC",
        "outputId": "7251711f-3f3d-4b2b-b748-4d832afca804"
      },
      "outputs": [
        {
          "output_type": "display_data",
          "data": {
            "text/plain": [
              "<Figure size 432x432 with 1 Axes>"
            ],
            "image/png": "[encoded data removed]"
          },
          "metadata": {
            "needs_background": "light"
          }
        }
      ],
      "source": [
        "#\"Recorta\" o shapefile lido dentro do shapefile retangular criado\n",
        "shp_cut = polygon_retang.overlay(shp, how=\"difference\")\n",
        "shp_cut.plot(figsize=(6,6), color='blue', alpha=1)\n",
        "plt.show()"
      ]
    },
    {
      "cell_type": "code",
      "execution_count": 22,
      "metadata": {
        "colab": {
          "base_uri": "https://localhost:8080/",
          "height": 0
        },
        "id": "T0GnPLfuw8GD",
        "outputId": "2482f0e4-5b4b-4893-ee4a-bb98cfe541e1"
      },
      "outputs": [
        {
          "output_type": "execute_result",
          "data": {
            "text/plain": [
              "<matplotlib.axes._subplots.AxesSubplot at 0x7f7f871b26d0>"
            ]
          },
          "metadata": {},
          "execution_count": 22
        },
        {
          "output_type": "display_data",
          "data": {
            "text/plain": [
              "<Figure size 432x288 with 1 Axes>"
            ],
            "image/png": "[encoded data removed]"
          },
          "metadata": {
            "needs_background": "light"
          }
        }
      ],
      "source": [
        "#Cria umm shapefile de linhas\n",
        "shp_bound = shp_cut.boundary\n",
        "shp_bound.plot()"
      ]
    },
    {
      "cell_type": "code",
      "execution_count": 23,
      "metadata": {
        "id": "IZjySJiUw8GE",
        "colab": {
          "base_uri": "https://localhost:8080/",
          "height": 0
        },
        "outputId": "d9a9eb5f-1df8-448d-cbde-d49dae64d6ed"
      },
      "outputs": [
        {
          "output_type": "display_data",
          "data": {
            "text/plain": [
              "-48.80471282282593"
            ]
          },
          "metadata": {}
        },
        {
          "output_type": "display_data",
          "data": {
            "text/plain": [
              "-18.398743440010595"
            ]
          },
          "metadata": {}
        },
        {
          "output_type": "display_data",
          "data": {
            "text/plain": [
              "-34.39087522629802"
            ]
          },
          "metadata": {}
        },
        {
          "output_type": "display_data",
          "data": {
            "text/plain": [
              "-0.9950854229755668"
            ]
          },
          "metadata": {}
        }
      ],
      "source": [
        "display(xmin, ymin, xmax, ymax)"
      ]
    },
    {
      "cell_type": "markdown",
      "metadata": {
        "id": "ufoa7-48aMyS"
      },
      "source": [
        "#Requisição de cenas do satélite Landsat 8\n",
        "* Manual API EROS USGS: https://m2m.cr.usgs.gov/\n",
        "* Manual API ESPA USGS: https://espa.cr.usgs.gov/\n",
        "* Bulk Download: https://code.usgs.gov/espa/bulk-downloader"
      ]
    },
    {
      "cell_type": "markdown",
      "metadata": {
        "id": "uODL3OXfSfNb"
      },
      "source": [
        "#**<font color='red'>API EROS para buscar nome das cenas para uma região específica</font>**"
      ]
    },
    {
      "cell_type": "code",
      "execution_count": 24,
      "metadata": {
        "id": "z0L3ZFbA8opP"
      },
      "outputs": [],
      "source": [
        "# send http request\n",
        "def sendRequest(url, data, apiKey = None):\n",
        "    json_data = json.dumps(data)\n",
        "    if apiKey == None:\n",
        "        response = requests.post(url, json_data)\n",
        "    else:\n",
        "        headers = {'X-Auth-Token': apiKey}              \n",
        "        response = requests.post(url, json_data, headers = headers)   \n",
        "        #display(response.json())\n",
        "    try:\n",
        "      httpStatusCode = response.status_code \n",
        "      if response == None:\n",
        "          print(\"No output from service\")\n",
        "          sys.exit()\n",
        "    \n",
        "      output = json.loads(response.text)\n",
        "\n",
        "      if output['errorCode'] != None:\n",
        "          print(output['errorCode'], \"- \", output['errorMessage'])\n",
        "          sys.exit()\n",
        "    \n",
        "      if  httpStatusCode == 404:\n",
        "          print(\"404 Not Found\")\n",
        "          sys.exit()\n",
        "    \n",
        "      elif httpStatusCode == 401: \n",
        "          print(\"401 Unauthorized\")\n",
        "          sys.exit()\n",
        "    \n",
        "      elif httpStatusCode == 400:\n",
        "          print(\"Error Code\", httpStatusCode)\n",
        "          sys.exit()\n",
        "    \n",
        "    except Exception as e: \n",
        "          response.close()\n",
        "          print(e)\n",
        "          sys.exit()\n",
        "    response.close()\n",
        "    response = response.json()\n",
        "    return output['data']"
      ]
    },
    {
      "cell_type": "code",
      "execution_count": null,
      "metadata": {
        "id": "KLtiUtr3-BgV"
      },
      "outputs": [],
      "source": [
        "# user input\n",
        "username = 'USERNAME'\n",
        "password = 'PASSWORD'\n",
        "\n",
        "serviceUrl = \"https://m2m.cr.usgs.gov/api/api/json/stable/\"\n",
        "\n",
        "# login\n",
        "payload = {'username' : username, 'password' : password}\n",
        "\n",
        "apiKey = sendRequest(serviceUrl + \"login\", payload)\n",
        "\n",
        "print(\"API Key: \" + apiKey + \"\\n\")"
      ]
    },
    {
      "cell_type": "code",
      "execution_count": 27,
      "metadata": {
        "id": "vOlDZHDeFMD2"
      },
      "outputs": [],
      "source": [
        "def cloud_cover(scenes):\n",
        "    data_scene = {}\n",
        "\n",
        "    for scene in scenes['results']:\n",
        "        sc_name = scene['displayId']\n",
        "        pathRow = sc_name[10:16]\n",
        "\n",
        "        if pathRow in data_scene.keys():\n",
        "            if sc_name[-2:] != 'T1' and data_scene[pathRow][0][-2:] == 'T1':\n",
        "                continue\n",
        "\n",
        "            elif sc_name[-2:] == 'T1' and data_scene[pathRow][0][-2:] != 'T1':\n",
        "                #print(data_scene[pathRow][0]+\" ==> \"+sc_name)\n",
        "                data_scene[pathRow] = [sc_name, float(scene['cloudCover'])]\n",
        "\n",
        "            elif data_scene[pathRow][1] > float(scene['cloudCover']):\n",
        "                data_scene[pathRow] = [sc_name, float(scene['cloudCover'])]\n",
        "        else:\n",
        "            data_scene[pathRow] = [sc_name, float(scene['cloudCover'])]\n",
        "\n",
        "\n",
        "    l8_ls = [x[0] for x in list(data_scene.values())]\n",
        "\n",
        "    cloud = [x[1] for x in list(data_scene.values())]\n",
        "    cloud_m = np.array(cloud).mean()\n",
        "    return cloud_m"
      ]
    },
    {
      "cell_type": "code",
      "execution_count": 28,
      "metadata": {
        "id": "KZHz6JNPE2lI"
      },
      "outputs": [],
      "source": [
        "from datetime import datetime, timedelta"
      ]
    },
    {
      "cell_type": "code",
      "execution_count": 29,
      "metadata": {
        "colab": {
          "base_uri": "https://localhost:8080/"
        },
        "id": "6myFPyF4gPg8",
        "outputId": "86435cc2-4f64-4e14-ad52-3ed211b60a37"
      },
      "outputs": [
        {
          "output_type": "stream",
          "name": "stdout",
          "text": [
            "found 236 scenes!!\n",
            "start: 2020-01-01 00:00:00 | end: 2020-02-02 00:00:00 | cloud: 45.040625\n",
            "\n",
            "found 236 scenes!!\n",
            "start: 2020-01-08 00:00:00 | end: 2020-02-09 00:00:00 | cloud: 44.714999999999996\n",
            "\n",
            "found 236 scenes!!\n",
            "start: 2020-01-15 00:00:00 | end: 2020-02-16 00:00:00 | cloud: 45.98973214285714\n",
            "\n",
            "found 237 scenes!!\n",
            "start: 2020-01-22 00:00:00 | end: 2020-02-23 00:00:00 | cloud: 47.44508928571429\n",
            "\n",
            "found 237 scenes!!\n",
            "start: 2020-01-29 00:00:00 | end: 2020-03-01 00:00:00 | cloud: 43.949732142857144\n",
            "\n",
            "found 232 scenes!!\n",
            "start: 2020-02-05 00:00:00 | end: 2020-03-08 00:00:00 | cloud: 46.68901785714286\n",
            "\n",
            "found 227 scenes!!\n",
            "start: 2020-02-12 00:00:00 | end: 2020-03-15 00:00:00 | cloud: 46.626071428571436\n",
            "\n",
            "found 224 scenes!!\n",
            "start: 2020-02-19 00:00:00 | end: 2020-03-22 00:00:00 | cloud: 50.00892857142857\n",
            "\n",
            "found 224 scenes!!\n",
            "start: 2020-02-26 00:00:00 | end: 2020-03-29 00:00:00 | cloud: 50.257767857142845\n",
            "\n",
            "found 224 scenes!!\n",
            "start: 2020-03-04 00:00:00 | end: 2020-04-05 00:00:00 | cloud: 48.785624999999996\n",
            "\n",
            "found 224 scenes!!\n",
            "start: 2020-03-11 00:00:00 | end: 2020-04-12 00:00:00 | cloud: 41.015625\n",
            "\n",
            "found 224 scenes!!\n",
            "start: 2020-03-18 00:00:00 | end: 2020-04-19 00:00:00 | cloud: 40.794642857142854\n",
            "\n",
            "found 229 scenes!!\n",
            "start: 2020-03-25 00:00:00 | end: 2020-04-26 00:00:00 | cloud: 40.01553571428571\n",
            "\n",
            "found 235 scenes!!\n",
            "start: 2020-04-01 00:00:00 | end: 2020-05-03 00:00:00 | cloud: 32.354107142857146\n",
            "\n",
            "found 223 scenes!!\n",
            "start: 2020-04-08 00:00:00 | end: 2020-05-10 00:00:00 | cloud: 35.01383928571429\n",
            "\n",
            "found 224 scenes!!\n",
            "start: 2020-04-15 00:00:00 | end: 2020-05-17 00:00:00 | cloud: 32.10473214285714\n",
            "\n",
            "found 224 scenes!!\n",
            "start: 2020-04-22 00:00:00 | end: 2020-05-24 00:00:00 | cloud: 25.469285714285714\n",
            "\n",
            "found 224 scenes!!\n",
            "start: 2020-04-29 00:00:00 | end: 2020-05-31 00:00:00 | cloud: 24.447499999999998\n",
            "\n",
            "found 224 scenes!!\n",
            "start: 2020-05-06 00:00:00 | end: 2020-06-07 00:00:00 | cloud: 23.973214285714285\n",
            "\n",
            "found 237 scenes!!\n",
            "start: 2020-05-13 00:00:00 | end: 2020-06-14 00:00:00 | cloud: 19.42625\n",
            "\n",
            "found 237 scenes!!\n",
            "start: 2020-05-20 00:00:00 | end: 2020-06-21 00:00:00 | cloud: 16.120714285714286\n",
            "\n",
            "found 232 scenes!!\n",
            "start: 2020-05-27 00:00:00 | end: 2020-06-28 00:00:00 | cloud: 13.726964285714287\n",
            "\n",
            "found 227 scenes!!\n",
            "start: 2020-06-03 00:00:00 | end: 2020-07-05 00:00:00 | cloud: 14.0\n",
            "\n",
            "found 224 scenes!!\n",
            "start: 2020-06-10 00:00:00 | end: 2020-07-12 00:00:00 | cloud: 14.65392857142857\n",
            "\n",
            "found 224 scenes!!\n",
            "start: 2020-06-17 00:00:00 | end: 2020-07-19 00:00:00 | cloud: 15.164464285714287\n",
            "\n",
            "found 224 scenes!!\n",
            "start: 2020-06-24 00:00:00 | end: 2020-07-26 00:00:00 | cloud: 14.27330357142857\n",
            "\n",
            "found 224 scenes!!\n",
            "start: 2020-07-01 00:00:00 | end: 2020-08-02 00:00:00 | cloud: 12.920982142857143\n",
            "\n",
            "found 224 scenes!!\n",
            "start: 2020-07-08 00:00:00 | end: 2020-08-09 00:00:00 | cloud: 13.55625\n",
            "\n",
            "found 229 scenes!!\n",
            "start: 2020-07-15 00:00:00 | end: 2020-08-16 00:00:00 | cloud: 14.967053571428574\n",
            "\n",
            "found 235 scenes!!\n",
            "start: 2020-07-22 00:00:00 | end: 2020-08-23 00:00:00 | cloud: 13.567499999999999\n",
            "\n",
            "found 235 scenes!!\n",
            "start: 2020-07-29 00:00:00 | end: 2020-08-30 00:00:00 | cloud: 13.131874999999999\n",
            "\n",
            "found 236 scenes!!\n",
            "start: 2020-08-05 00:00:00 | end: 2020-09-06 00:00:00 | cloud: 13.977053571428572\n",
            "\n",
            "found 236 scenes!!\n",
            "start: 2020-08-12 00:00:00 | end: 2020-09-13 00:00:00 | cloud: 14.574642857142859\n",
            "\n",
            "found 236 scenes!!\n",
            "start: 2020-08-19 00:00:00 | end: 2020-09-20 00:00:00 | cloud: 13.287857142857144\n",
            "\n",
            "found 236 scenes!!\n",
            "start: 2020-08-26 00:00:00 | end: 2020-09-27 00:00:00 | cloud: 13.416875000000001\n",
            "\n",
            "found 237 scenes!!\n",
            "start: 2020-09-02 00:00:00 | end: 2020-10-04 00:00:00 | cloud: 12.628749999999998\n",
            "\n",
            "found 237 scenes!!\n",
            "start: 2020-09-09 00:00:00 | end: 2020-10-11 00:00:00 | cloud: 9.722142857142858\n",
            "\n",
            "found 232 scenes!!\n",
            "start: 2020-09-16 00:00:00 | end: 2020-10-18 00:00:00 | cloud: 14.454999999999998\n",
            "\n",
            "found 227 scenes!!\n",
            "start: 2020-09-23 00:00:00 | end: 2020-10-25 00:00:00 | cloud: 15.785982142857145\n",
            "\n",
            "found 224 scenes!!\n",
            "start: 2020-09-30 00:00:00 | end: 2020-11-01 00:00:00 | cloud: 19.560089285714287\n",
            "\n",
            "found 175 scenes!!\n",
            "start: 2020-10-07 00:00:00 | end: 2020-11-08 00:00:00 | cloud: 33.808928571428574\n",
            "\n",
            "found 175 scenes!!\n",
            "start: 2020-10-14 00:00:00 | end: 2020-11-15 00:00:00 | cloud: 36.698750000000004\n",
            "\n",
            "found 175 scenes!!\n",
            "start: 2020-10-21 00:00:00 | end: 2020-11-22 00:00:00 | cloud: 44.56160714285715\n",
            "\n",
            "found 175 scenes!!\n",
            "start: 2020-10-28 00:00:00 | end: 2020-11-29 00:00:00 | cloud: 46.81321428571429\n",
            "\n",
            "found 199 scenes!!\n",
            "start: 2020-11-04 00:00:00 | end: 2020-12-06 00:00:00 | cloud: 37.22839285714286\n",
            "\n",
            "found 235 scenes!!\n",
            "start: 2020-11-11 00:00:00 | end: 2020-12-13 00:00:00 | cloud: 35.634910714285716\n",
            "\n",
            "found 235 scenes!!\n",
            "start: 2020-11-18 00:00:00 | end: 2020-12-20 00:00:00 | cloud: 37.30892857142857\n",
            "\n",
            "found 236 scenes!!\n",
            "start: 2020-11-25 00:00:00 | end: 2020-12-27 00:00:00 | cloud: 37.65955357142857\n",
            "\n",
            "found 236 scenes!!\n",
            "start: 2020-12-02 00:00:00 | end: 2021-01-03 00:00:00 | cloud: 35.901875000000004\n",
            "\n",
            "found 236 scenes!!\n",
            "start: 2020-12-09 00:00:00 | end: 2021-01-10 00:00:00 | cloud: 34.24053571428571\n",
            "\n"
          ]
        }
      ],
      "source": [
        "datasetName = \"landsat_ot_c2_l2\"\n",
        "#datasetName = \"landsat_ot_c2_l1\"\n",
        "#datasetName = 'modis_mod13q1_v61'\n",
        "\n",
        "spatialFilter =  {'filterType' : \"mbr\",\n",
        "                  'lowerLeft' : {'latitude' : ymin, 'longitude' : xmin},\n",
        "                  'upperRight' : { 'latitude' : ymax, 'longitude' : xmax}}\n",
        "\n",
        "# find additional filters\n",
        "\n",
        "list_cloud = []\n",
        "date_start = datetime(2020, 1, 1)\n",
        "\n",
        "date_end = date_start + timedelta(days=32)\n",
        "\n",
        "for i in range(50):\n",
        "\n",
        "    acquisitionFilter = {\"start\": f\"{date_start}\",\n",
        "                            \"end\": f\"{date_end}\"}\n",
        "\n",
        "    payload = {'datasetName' : datasetName,\n",
        "                                'maxResults' : 500,\n",
        "                                'startingNumber' : 1,\n",
        "                                'sceneFilter' : {\n",
        "                                                'spatialFilter': spatialFilter,\n",
        "                                                'acquisitionFilter': acquisitionFilter}}\n",
        "                                                #\"cloudCoverFilter\": cloudCoverFilter}}\n",
        "\n",
        "    # Now I need to run a scene search to find data to download\n",
        "    #print(\"Searching scenes...\\n\\n\")\n",
        "\n",
        "    scenes = sendRequest(serviceUrl + \"scene-search\", payload, apiKey)\n",
        "\n",
        "    print(f'found {len(scenes[\"results\"])} scenes!!')\n",
        "    cloud_porcent = cloud_cover(scenes)\n",
        "    print(f'start: {date_start} | end: {date_end} | cloud: {cloud_porcent}\\n')\n",
        "    list_cloud.append([cloud_porcent, date_start, date_end])\n",
        "\n",
        "    #print(json.dumps(scenes, indent=4))\n",
        "\n",
        "    date_start += timedelta(days=7)\n",
        "    date_end += timedelta(days=7)\n",
        "\n",
        "# Did we find anything?\n",
        "            \n",
        "# Logout so the API Key cannot be used anymore\n",
        "#endpoint = \"logout\"  \n",
        "#if sendRequest(serviceUrl + endpoint, None, apiKey) == None:        \n",
        "#    print(\"Logged Out\\n\\n\")\n",
        "#else:\n",
        "#    print(\"Logout Failed\\n\\n\")"
      ]
    },
    {
      "cell_type": "code",
      "execution_count": 30,
      "metadata": {
        "colab": {
          "base_uri": "https://localhost:8080/"
        },
        "id": "1YqewQgF92wd",
        "outputId": "a678d269-a7c2-41b5-f728-41c85cfc2e94"
      },
      "outputs": [
        {
          "output_type": "execute_result",
          "data": {
            "text/plain": [
              "[9.722142857142858,\n",
              " datetime.datetime(2020, 9, 9, 0, 0),\n",
              " datetime.datetime(2020, 10, 11, 0, 0)]"
            ]
          },
          "metadata": {},
          "execution_count": 30
        }
      ],
      "source": [
        "#Ordena a lista a partir da coluna de nuvem %\n",
        "def takeSecond(elem):\n",
        "    return elem[0]\n",
        "\n",
        "min_cl_cv = sorted(list_cloud, key=takeSecond)[0]\n",
        "min_cl_cv #Range de data de cobertura de nuvem mínima"
      ]
    },
    {
      "cell_type": "code",
      "execution_count": 31,
      "metadata": {
        "colab": {
          "base_uri": "https://localhost:8080/"
        },
        "id": "UlmbTakmMGCJ",
        "outputId": "a3720736-cbce-48b9-e964-c6334d9ec5a0"
      },
      "outputs": [
        {
          "output_type": "stream",
          "name": "stdout",
          "text": [
            "Searching scenes...\n",
            "\n",
            "\n",
            "found 237 scenes!!\n",
            "\n"
          ]
        }
      ],
      "source": [
        "datasetName = \"landsat_ot_c2_l2\"\n",
        "#datasetName = \"landsat_ot_c2_l1\"\n",
        "#datasetName = 'modis_mod13q1_v61'\n",
        "\n",
        "spatialFilter =  {'filterType' : \"mbr\",\n",
        "                  'lowerLeft' : {'latitude' : ymin, 'longitude' : xmin},\n",
        "                  'upperRight' : { 'latitude' : ymax, 'longitude' : xmax}}\n",
        "                  #'lowerRight' : {'latitude' : ymin, 'longitude' : xmax},\n",
        "                  #'upperLeft' : { 'latitude' : ymax, 'longitude' : xmin}}\n",
        "\n",
        "# find additional filters\n",
        "\n",
        "date_start = min_cl_cv[1].strftime(\"%Y-%m-%d\")\n",
        "date_end = min_cl_cv[2].strftime(\"%Y-%m-%d\")\n",
        "\n",
        "acquisitionFilter = {\"start\": f\"{date_start}\",\n",
        "                        \"end\": f\"{date_end}\"}\n",
        "\n",
        "#cloudCoverFilter = {\"max\": 15,\n",
        "#                    \"min\": 0,\n",
        "#                    \"includeUnknown\": True}\n",
        "\n",
        "payload = {'datasetName' : datasetName,\n",
        "                            'maxResults' : 500,\n",
        "                            'startingNumber' : 1,\n",
        "                            'sceneFilter' : {\n",
        "                                            'spatialFilter': spatialFilter,\n",
        "                                            'acquisitionFilter': acquisitionFilter}}\n",
        "                                            #\"cloudCoverFilter\": cloudCoverFilter}}\n",
        "\n",
        "# Now I need to run a scene search to find data to download\n",
        "print(\"Searching scenes...\\n\\n\")\n",
        "scenes = sendRequest(serviceUrl + \"scene-search\", payload, apiKey)\n",
        "print(f'found {len(scenes[\"results\"])} scenes!!\\n')\n",
        "#print(json.dumps(scenes, indent=4))"
      ]
    },
    {
      "cell_type": "code",
      "execution_count": 32,
      "metadata": {
        "colab": {
          "base_uri": "https://localhost:8080/"
        },
        "id": "nnPn1pQXfr4i",
        "outputId": "1f24c8e0-44ca-495f-9ecd-8929cc3ac838"
      },
      "outputs": [
        {
          "output_type": "stream",
          "name": "stdout",
          "text": [
            "50.37  ==> 38.99\n",
            "\n",
            "63.46  ==> 58.76\n",
            "\n",
            "99.95  ==> 96.28\n",
            "\n",
            "91.09  ==> 82.94\n",
            "\n",
            "64.97  ==> 57.58\n",
            "\n",
            "88.24  ==> 44.61\n",
            "\n",
            "93.47  ==> 14.23\n",
            "\n",
            "95.27  ==> 1.33\n",
            "\n",
            "99.98  ==> 0.4\n",
            "\n",
            "94.52  ==> 0.01\n",
            "\n",
            "23.24  ==> 15.36\n",
            "\n",
            "57.92  ==> 18.26\n",
            "\n",
            "76.64  ==> 43.36\n",
            "\n",
            "27.19  ==> 23.16\n",
            "\n",
            "12.69  ==> 4.1\n",
            "\n",
            "44.71  ==> 34.18\n",
            "\n",
            "43.06  ==> 19.97\n",
            "\n",
            "51.6  ==> 23.89\n",
            "\n",
            "88.39  ==> 15.31\n",
            "\n",
            "67.42  ==> 17.49\n",
            "\n",
            "23.31  ==> 12.88\n",
            "\n",
            "21.11  ==> 11.5\n",
            "\n",
            "30.06  ==> 6.63\n",
            "\n",
            "54.36  ==> 6.53\n",
            "\n",
            "33.43  ==> 0.01\n",
            "\n",
            "18.48  ==> 0.0\n",
            "\n",
            "0.79  ==> 0.0\n",
            "\n",
            "69.86  ==> 11.35\n",
            "\n",
            "29.56  ==> 15.92\n",
            "\n",
            "91.19  ==> 58.43\n",
            "\n",
            "31.11  ==> 9.75\n",
            "\n",
            "47.56  ==> 14.8\n",
            "\n",
            "14.61  ==> 1.71\n",
            "\n",
            "2.28  ==> 0.0\n",
            "\n",
            "18.14  ==> 3.5\n",
            "\n",
            "11.84  ==> 1.98\n",
            "\n",
            "10.39  ==> 0.0\n",
            "\n",
            "8.37  ==> 0.0\n",
            "\n",
            "0.13  ==> 0.01\n",
            "\n",
            "38.99  ==> 18.88\n",
            "\n",
            "58.76  ==> 22.4\n",
            "\n",
            "87.93  ==> 32.19\n",
            "\n",
            "96.28  ==> 4.26\n",
            "\n",
            "98.86  ==> 0.32\n",
            "\n",
            "82.94  ==> 0.02\n",
            "\n",
            "57.58  ==> 0.0\n",
            "\n",
            "44.61  ==> 0.01\n",
            "\n",
            "14.23  ==> 0.0\n",
            "\n",
            "1.33  ==> 0.0\n",
            "\n",
            "0.4  ==> 0.0\n",
            "\n",
            "0.01  ==> 0.0\n",
            "\n",
            "112 cenas adquiridas\n",
            "\n",
            "Média de cobertura de nuvem em toda região: 9.72 %\n"
          ]
        }
      ],
      "source": [
        "data_scene = {}\n",
        "\n",
        "for scene in scenes['results']:\n",
        "    sc_name = scene['displayId']\n",
        "    pathRow = sc_name[10:16]\n",
        "\n",
        "    if pathRow in data_scene.keys():\n",
        "        if sc_name[-2:] != 'T1' and data_scene[pathRow][0][-2:] == 'T1':\n",
        "            continue\n",
        "\n",
        "        elif sc_name[-2:] == 'T1' and data_scene[pathRow][0][-2:] != 'T1':\n",
        "            #print(data_scene[pathRow][0]+\" ==> \"+sc_name)\n",
        "            data_scene[pathRow] = [sc_name, float(scene['cloudCover'])]\n",
        "\n",
        "        elif data_scene[pathRow][1] > float(scene['cloudCover']):\n",
        "            print(f'{data_scene[pathRow][1]} ', end=' ==> ')\n",
        "            data_scene[pathRow] = [sc_name, float(scene['cloudCover'])]\n",
        "            print(f'{data_scene[pathRow][1]}', end='\\n\\n')\n",
        "    else:\n",
        "        data_scene[pathRow] = [sc_name, float(scene['cloudCover'])]\n",
        "\n",
        "\n",
        "l8_ls = [x[0] for x in list(data_scene.values())]\n",
        "\n",
        "#display(l8_ls)\n",
        "cloud = [x[1] for x in list(data_scene.values())]\n",
        "cloud_m = np.array(cloud).mean()\n",
        "print(f'{len(l8_ls)} cenas adquiridas')\n",
        "print(f'\\nMédia de cobertura de nuvem em toda região: {cloud_m:.2f} %')"
      ]
    },
    {
      "cell_type": "markdown",
      "metadata": {
        "id": "X-6m-Qx3-jhF"
      },
      "source": [
        "#API ESPA - Login"
      ]
    },
    {
      "cell_type": "markdown",
      "metadata": {
        "id": "fx8jvaE6TopW"
      },
      "source": [
        "##Função principal"
      ]
    },
    {
      "cell_type": "code",
      "execution_count": 33,
      "metadata": {
        "colab": {
          "base_uri": "https://localhost:8080/"
        },
        "id": "I6fDWLrFaQft",
        "outputId": "f924ca93-1546-4320-ccfb-6e131b52764a"
      },
      "outputs": [
        {
          "output_type": "stream",
          "name": "stdout",
          "text": [
            "3.7.13\n"
          ]
        }
      ],
      "source": [
        "import platform\n",
        "print(platform.python_version())\n",
        "\n",
        "\n",
        "# The current URL hosting the ESPA interfaces has reached a stable version 1.0\n",
        "\n",
        "\n",
        "host = 'https://espa.cr.usgs.gov/api/v1/'\n",
        "\n",
        "# ESPA uses the ERS credentials for identifying users\n",
        "\n",
        "username = 'USERNAME'\n",
        "password = 'PASSWORD'\n",
        "\n",
        "def espa_api(endpoint, verb='get', body=None, uauth=None):\n",
        "    \"\"\" Suggested simple way to interact with the ESPA JSON REST API \"\"\"\n",
        "    auth_tup = uauth if uauth else (username, password)\n",
        "    response = getattr(requests, verb)(host + endpoint, auth=auth_tup, json=body)\n",
        "    #print('{} {}'.format(response.status_code, response.reason))\n",
        "    data = response.json()\n",
        "    if isinstance(data, dict):\n",
        "        messages = data.pop(\"messages\", None)  \n",
        "        if messages:\n",
        "            print((json.dumps(messages, indent=4)))\n",
        "    try:\n",
        "        response.raise_for_status()\n",
        "    except Exception as e:\n",
        "        print(e)\n",
        "        return None\n",
        "    else:\n",
        "        return data"
      ]
    },
    {
      "cell_type": "markdown",
      "metadata": {
        "id": "jT-0HNChwsZ7"
      },
      "source": [
        "##Login"
      ]
    },
    {
      "cell_type": "code",
      "execution_count": null,
      "metadata": {
        "id": "S5rqCrYuwwLC"
      },
      "outputs": [],
      "source": [
        "print('GET /api/v1/user')\n",
        "resp = espa_api('user')\n",
        "print((json.dumps(resp, indent=4)))\n",
        "email = resp['email']"
      ]
    },
    {
      "cell_type": "markdown",
      "metadata": {
        "id": "Z-ddi1FpMwcA"
      },
      "source": [
        "# **<font color='red'>Requisição das cenas</font>**\n",
        "- obs: para não repetir requisições, pule para a próxima célula para verificar se há requisições para download."
      ]
    },
    {
      "cell_type": "code",
      "execution_count": null,
      "metadata": {
        "id": "SXdlAOn4aXVb"
      },
      "outputs": [],
      "source": [
        "#print('GET /api/v1/projections')\n",
        "#projs = espa_api('projections')\n",
        "#print(json.dumps(list(projs.keys())))\n",
        "#\n",
        "#\n",
        "## This is a Schema Definition, useful for building a valid order\n",
        "## \n",
        "## Example (*lonlat Projection*):\n",
        "#\n",
        "## In[12]:\n",
        "#print('lonlat projection')\n",
        "#print(json.dumps(projs, indent=4))"
      ]
    },
    {
      "cell_type": "code",
      "execution_count": 52,
      "metadata": {
        "colab": {
          "base_uri": "https://localhost:8080/"
        },
        "id": "MIOhkMB2gu4w",
        "outputId": "c3045b4f-7a0a-49a6-9836-0519f6143542"
      },
      "outputs": [
        {
          "output_type": "stream",
          "name": "stdout",
          "text": [
            "GET /api/v1/available-products\n",
            "{\n",
            "    \"olitirs8_collection_2_l2\": {\n",
            "        \"products\": [\n",
            "            \"l1\",\n",
            "            \"sr_ndvi\",\n",
            "            \"sr_evi\",\n",
            "            \"sr_savi\",\n",
            "            \"sr_msavi\",\n",
            "            \"sr_ndmi\",\n",
            "            \"sr_nbr\",\n",
            "            \"sr_nbr2\",\n",
            "            \"sr_ndsi\"\n",
            "        ],\n",
            "        \"inputs\": [\n",
            "            \"LC08_L2SP_222060_20201011_20201016_02_T2\",\n",
            "            \"LC08_L2SP_222061_20200909_20200919_02_T1\",\n",
            "            \"LC08_L2SP_222062_20200909_20200919_02_T1\",\n",
            "            \"LC08_L2SP_222063_20200909_20200919_02_T1\",\n",
            "            \"LC08_L2SP_222064_20200909_20200919_02_T1\",\n",
            "            \"LC08_L2SP_222065_20200909_20200919_02_T1\",\n",
            "            \"LC08_L2SP_222066_20200909_20200919_02_T1\",\n",
            "            \"LC08_L2SP_222067_20200909_20200919_02_T1\",\n",
            "            \"LC08_L2SP_222068_20200909_20200919_02_T1\",\n",
            "            \"LC08_L2SP_222069_20200909_20200919_02_T1\",\n",
            "            \"LC08_L2SP_222070_20200909_20200919_02_T1\",\n",
            "            \"LC08_L2SP_222071_20200909_20200919_02_T1\",\n",
            "            \"LC08_L2SP_222072_20200909_20200919_02_T1\",\n",
            "            \"LC08_L2SP_215063_20200924_20201005_02_T1\",\n",
            "            \"LC08_L2SP_215064_20200924_20201006_02_T1\",\n",
            "            \"LC08_L2SP_215065_20201010_20201016_02_T1\",\n",
            "            \"LC08_L2SP_215066_20201010_20201016_02_T1\",\n",
            "            \"LC08_L2SP_215067_20201010_20201016_02_T1\",\n",
            "            \"LC08_L2SP_215068_20201010_20201016_02_T1\",\n",
            "            \"LC08_L2SP_215069_20201010_20201016_02_T1\",\n",
            "            \"LC08_L2SP_215070_20200924_20201005_02_T1\",\n",
            "            \"LC08_L2SP_215071_20201010_20201016_02_T1\",\n",
            "            \"LC08_L2SP_215072_20200924_20201006_02_T1\",\n",
            "            \"LC08_L2SP_215073_20201010_20201016_02_T1\",\n",
            "            \"LC08_L2SP_224060_20201009_20201016_02_T1\",\n",
            "            \"LC08_L2SP_224061_20200923_20201005_02_T1\",\n",
            "            \"LC08_L2SP_224062_20201009_20201016_02_T1\",\n",
            "            \"LC08_L2SP_217062_20201008_20201016_02_T1\",\n",
            "            \"LC08_L2SP_217063_20201008_20201016_02_T1\",\n",
            "            \"LC08_L2SP_217064_20201008_20201016_02_T1\",\n",
            "            \"LC08_L2SP_217065_20201008_20201016_02_T1\",\n",
            "            \"LC08_L2SP_217066_20201008_20201016_02_T1\",\n",
            "            \"LC08_L2SP_217067_20201008_20201016_02_T1\",\n",
            "            \"LC08_L2SP_217068_20201008_20201016_02_T1\",\n",
            "            \"LC08_L2SP_217069_20201008_20201016_02_T1\",\n",
            "            \"LC08_L2SP_217070_20201008_20201016_02_T1\",\n",
            "            \"LC08_L2SP_217071_20201008_20201016_02_T1\",\n",
            "            \"LC08_L2SP_217072_20201008_20201016_02_T1\",\n",
            "            \"LC08_L2SP_217073_20201008_20201016_02_T1\",\n",
            "            \"LC08_L2SP_219062_20200920_20201005_02_T1\",\n",
            "            \"LC08_L2SP_219063_20201006_20201016_02_T1\",\n",
            "            \"LC08_L2SP_219064_20201006_20201016_02_T1\",\n",
            "            \"LC08_L2SP_219065_20201006_20201016_02_T1\",\n",
            "            \"LC08_L2SP_219066_20201006_20201016_02_T1\",\n",
            "            \"LC08_L2SP_219067_20201006_20201016_02_T1\",\n",
            "            \"LC08_L2SP_219068_20201006_20201016_02_T1\",\n",
            "            \"LC08_L2SP_219069_20201006_20201016_02_T1\",\n",
            "            \"LC08_L2SP_219070_20201006_20201016_02_T1\",\n",
            "            \"LC08_L2SP_219071_20201006_20201016_02_T1\",\n",
            "            \"LC08_L2SP_219072_20201006_20201016_02_T1\",\n",
            "            \"LC08_L2SP_219073_20201006_20201016_02_T1\",\n",
            "            \"LC08_L2SP_221061_20201004_20201016_02_T1\",\n",
            "            \"LC08_L2SP_221062_20201004_20201016_02_T1\",\n",
            "            \"LC08_L2SP_221063_20201004_20201016_02_T1\",\n",
            "            \"LC08_L2SP_221064_20201004_20201016_02_T1\",\n",
            "            \"LC08_L2SP_221065_20201004_20201016_02_T1\",\n",
            "            \"LC08_L2SP_221066_20201004_20201016_02_T1\",\n",
            "            \"LC08_L2SP_221067_20201004_20201016_02_T1\",\n",
            "            \"LC08_L2SP_221068_20201004_20201016_02_T1\",\n",
            "            \"LC08_L2SP_221069_20201004_20201016_02_T1\",\n",
            "            \"LC08_L2SP_221070_20201004_20201016_02_T1\",\n",
            "            \"LC08_L2SP_221071_20201004_20201016_02_T1\",\n",
            "            \"LC08_L2SP_221072_20201004_20201016_02_T1\",\n",
            "            \"LC08_L2SP_221073_20201004_20201016_02_T1\",\n",
            "            \"LC08_L2SP_214063_20200917_20201005_02_T2\",\n",
            "            \"LC08_L2SP_214064_20200917_20201005_02_T1\",\n",
            "            \"LC08_L2SP_214065_20200917_20201005_02_T1\",\n",
            "            \"LC08_L2SP_214066_20200917_20201005_02_T1\",\n",
            "            \"LC08_L2SP_214067_20200917_20201005_02_T1\",\n",
            "            \"LC08_L2SP_223060_20200916_20201005_02_T1\",\n",
            "            \"LC08_L2SP_223061_20200916_20201005_02_T1\",\n",
            "            \"LC08_L2SP_223062_20200916_20201005_02_T1\",\n",
            "            \"LC08_L2SP_223063_20200916_20201005_02_T1\",\n",
            "            \"LC08_L2SP_223064_20200916_20201005_02_T1\",\n",
            "            \"LC08_L2SP_223065_20200916_20201005_02_T1\",\n",
            "            \"LC08_L2SP_223066_20200916_20201005_02_T1\",\n",
            "            \"LC08_L2SP_223067_20201002_20201015_02_T1\",\n",
            "            \"LC08_L2SP_216063_20200915_20200919_02_T1\",\n",
            "            \"LC08_L2SP_216064_20201001_20201006_02_T1\",\n",
            "            \"LC08_L2SP_216065_20201001_20201006_02_T1\",\n",
            "            \"LC08_L2SP_216066_20200915_20200919_02_T1\",\n",
            "            \"LC08_L2SP_216067_20201001_20201006_02_T1\",\n",
            "            \"LC08_L2SP_216068_20200915_20200919_02_T1\",\n",
            "            \"LC08_L2SP_216069_20200915_20200919_02_T1\",\n",
            "            \"LC08_L2SP_216070_20200915_20200919_02_T1\",\n",
            "            \"LC08_L2SP_216071_20201001_20201006_02_T1\",\n",
            "            \"LC08_L2SP_216072_20201001_20201006_02_T1\",\n",
            "            \"LC08_L2SP_216073_20201001_20201006_02_T1\",\n",
            "            \"LC08_L2SP_218062_20200913_20200919_02_T1\",\n",
            "            \"LC08_L2SP_218063_20200913_20200919_02_T1\",\n",
            "            \"LC08_L2SP_218064_20200913_20200919_02_T1\",\n",
            "            \"LC08_L2SP_218065_20200913_20200919_02_T1\",\n",
            "            \"LC08_L2SP_218066_20200929_20201006_02_T1\",\n",
            "            \"LC08_L2SP_218067_20200929_20201006_02_T1\",\n",
            "            \"LC08_L2SP_218068_20200929_20201006_02_T1\",\n",
            "            \"LC08_L2SP_218069_20200929_20201006_02_T1\",\n",
            "            \"LC08_L2SP_218070_20200929_20201006_02_T1\",\n",
            "            \"LC08_L2SP_218071_20200929_20201006_02_T1\",\n",
            "            \"LC08_L2SP_218072_20200929_20201006_02_T1\",\n",
            "            \"LC08_L2SP_218073_20200929_20201006_02_T1\",\n",
            "            \"LC08_L2SP_220062_20200927_20201006_02_T1\",\n",
            "            \"LC08_L2SP_220063_20200911_20200919_02_T1\",\n",
            "            \"LC08_L2SP_220064_20200911_20200919_02_T1\",\n",
            "            \"LC08_L2SP_220065_20200927_20201006_02_T1\",\n",
            "            \"LC08_L2SP_220066_20200911_20200919_02_T1\",\n",
            "            \"LC08_L2SP_220067_20200911_20200919_02_T1\",\n",
            "            \"LC08_L2SP_220068_20200911_20200919_02_T1\",\n",
            "            \"LC08_L2SP_220069_20200927_20201006_02_T1\",\n",
            "            \"LC08_L2SP_220070_20200927_20201006_02_T1\",\n",
            "            \"LC08_L2SP_220071_20200927_20201006_02_T1\",\n",
            "            \"LC08_L2SP_220072_20200927_20201006_02_T1\",\n",
            "            \"LC08_L2SP_220073_20200927_20201006_02_T1\"\n",
            "        ]\n",
            "    }\n",
            "}\n",
            "{\n",
            "    \"olitirs8_collection_2_l2\": {\n",
            "        \"products\": [\n",
            "            \"sr_ndvi\"\n",
            "        ],\n",
            "        \"inputs\": [\n",
            "            \"LC08_L2SP_222060_20201011_20201016_02_T2\",\n",
            "            \"LC08_L2SP_222061_20200909_20200919_02_T1\",\n",
            "            \"LC08_L2SP_222062_20200909_20200919_02_T1\",\n",
            "            \"LC08_L2SP_222063_20200909_20200919_02_T1\",\n",
            "            \"LC08_L2SP_222064_20200909_20200919_02_T1\",\n",
            "            \"LC08_L2SP_222065_20200909_20200919_02_T1\",\n",
            "            \"LC08_L2SP_222066_20200909_20200919_02_T1\",\n",
            "            \"LC08_L2SP_222067_20200909_20200919_02_T1\",\n",
            "            \"LC08_L2SP_222068_20200909_20200919_02_T1\",\n",
            "            \"LC08_L2SP_222069_20200909_20200919_02_T1\",\n",
            "            \"LC08_L2SP_222070_20200909_20200919_02_T1\",\n",
            "            \"LC08_L2SP_222071_20200909_20200919_02_T1\",\n",
            "            \"LC08_L2SP_222072_20200909_20200919_02_T1\",\n",
            "            \"LC08_L2SP_215063_20200924_20201005_02_T1\",\n",
            "            \"LC08_L2SP_215064_20200924_20201006_02_T1\",\n",
            "            \"LC08_L2SP_215065_20201010_20201016_02_T1\",\n",
            "            \"LC08_L2SP_215066_20201010_20201016_02_T1\",\n",
            "            \"LC08_L2SP_215067_20201010_20201016_02_T1\",\n",
            "            \"LC08_L2SP_215068_20201010_20201016_02_T1\",\n",
            "            \"LC08_L2SP_215069_20201010_20201016_02_T1\",\n",
            "            \"LC08_L2SP_215070_20200924_20201005_02_T1\",\n",
            "            \"LC08_L2SP_215071_20201010_20201016_02_T1\",\n",
            "            \"LC08_L2SP_215072_20200924_20201006_02_T1\",\n",
            "            \"LC08_L2SP_215073_20201010_20201016_02_T1\",\n",
            "            \"LC08_L2SP_224060_20201009_20201016_02_T1\",\n",
            "            \"LC08_L2SP_224061_20200923_20201005_02_T1\",\n",
            "            \"LC08_L2SP_224062_20201009_20201016_02_T1\",\n",
            "            \"LC08_L2SP_217062_20201008_20201016_02_T1\",\n",
            "            \"LC08_L2SP_217063_20201008_20201016_02_T1\",\n",
            "            \"LC08_L2SP_217064_20201008_20201016_02_T1\",\n",
            "            \"LC08_L2SP_217065_20201008_20201016_02_T1\",\n",
            "            \"LC08_L2SP_217066_20201008_20201016_02_T1\",\n",
            "            \"LC08_L2SP_217067_20201008_20201016_02_T1\",\n",
            "            \"LC08_L2SP_217068_20201008_20201016_02_T1\",\n",
            "            \"LC08_L2SP_217069_20201008_20201016_02_T1\",\n",
            "            \"LC08_L2SP_217070_20201008_20201016_02_T1\",\n",
            "            \"LC08_L2SP_217071_20201008_20201016_02_T1\",\n",
            "            \"LC08_L2SP_217072_20201008_20201016_02_T1\",\n",
            "            \"LC08_L2SP_217073_20201008_20201016_02_T1\",\n",
            "            \"LC08_L2SP_219062_20200920_20201005_02_T1\",\n",
            "            \"LC08_L2SP_219063_20201006_20201016_02_T1\",\n",
            "            \"LC08_L2SP_219064_20201006_20201016_02_T1\",\n",
            "            \"LC08_L2SP_219065_20201006_20201016_02_T1\",\n",
            "            \"LC08_L2SP_219066_20201006_20201016_02_T1\",\n",
            "            \"LC08_L2SP_219067_20201006_20201016_02_T1\",\n",
            "            \"LC08_L2SP_219068_20201006_20201016_02_T1\",\n",
            "            \"LC08_L2SP_219069_20201006_20201016_02_T1\",\n",
            "            \"LC08_L2SP_219070_20201006_20201016_02_T1\",\n",
            "            \"LC08_L2SP_219071_20201006_20201016_02_T1\",\n",
            "            \"LC08_L2SP_219072_20201006_20201016_02_T1\",\n",
            "            \"LC08_L2SP_219073_20201006_20201016_02_T1\",\n",
            "            \"LC08_L2SP_221061_20201004_20201016_02_T1\",\n",
            "            \"LC08_L2SP_221062_20201004_20201016_02_T1\",\n",
            "            \"LC08_L2SP_221063_20201004_20201016_02_T1\",\n",
            "            \"LC08_L2SP_221064_20201004_20201016_02_T1\",\n",
            "            \"LC08_L2SP_221065_20201004_20201016_02_T1\",\n",
            "            \"LC08_L2SP_221066_20201004_20201016_02_T1\",\n",
            "            \"LC08_L2SP_221067_20201004_20201016_02_T1\",\n",
            "            \"LC08_L2SP_221068_20201004_20201016_02_T1\",\n",
            "            \"LC08_L2SP_221069_20201004_20201016_02_T1\",\n",
            "            \"LC08_L2SP_221070_20201004_20201016_02_T1\",\n",
            "            \"LC08_L2SP_221071_20201004_20201016_02_T1\",\n",
            "            \"LC08_L2SP_221072_20201004_20201016_02_T1\",\n",
            "            \"LC08_L2SP_221073_20201004_20201016_02_T1\",\n",
            "            \"LC08_L2SP_214063_20200917_20201005_02_T2\",\n",
            "            \"LC08_L2SP_214064_20200917_20201005_02_T1\",\n",
            "            \"LC08_L2SP_214065_20200917_20201005_02_T1\",\n",
            "            \"LC08_L2SP_214066_20200917_20201005_02_T1\",\n",
            "            \"LC08_L2SP_214067_20200917_20201005_02_T1\",\n",
            "            \"LC08_L2SP_223060_20200916_20201005_02_T1\",\n",
            "            \"LC08_L2SP_223061_20200916_20201005_02_T1\",\n",
            "            \"LC08_L2SP_223062_20200916_20201005_02_T1\",\n",
            "            \"LC08_L2SP_223063_20200916_20201005_02_T1\",\n",
            "            \"LC08_L2SP_223064_20200916_20201005_02_T1\",\n",
            "            \"LC08_L2SP_223065_20200916_20201005_02_T1\",\n",
            "            \"LC08_L2SP_223066_20200916_20201005_02_T1\",\n",
            "            \"LC08_L2SP_223067_20201002_20201015_02_T1\",\n",
            "            \"LC08_L2SP_216063_20200915_20200919_02_T1\",\n",
            "            \"LC08_L2SP_216064_20201001_20201006_02_T1\",\n",
            "            \"LC08_L2SP_216065_20201001_20201006_02_T1\",\n",
            "            \"LC08_L2SP_216066_20200915_20200919_02_T1\",\n",
            "            \"LC08_L2SP_216067_20201001_20201006_02_T1\",\n",
            "            \"LC08_L2SP_216068_20200915_20200919_02_T1\",\n",
            "            \"LC08_L2SP_216069_20200915_20200919_02_T1\",\n",
            "            \"LC08_L2SP_216070_20200915_20200919_02_T1\",\n",
            "            \"LC08_L2SP_216071_20201001_20201006_02_T1\",\n",
            "            \"LC08_L2SP_216072_20201001_20201006_02_T1\",\n",
            "            \"LC08_L2SP_216073_20201001_20201006_02_T1\",\n",
            "            \"LC08_L2SP_218062_20200913_20200919_02_T1\",\n",
            "            \"LC08_L2SP_218063_20200913_20200919_02_T1\",\n",
            "            \"LC08_L2SP_218064_20200913_20200919_02_T1\",\n",
            "            \"LC08_L2SP_218065_20200913_20200919_02_T1\",\n",
            "            \"LC08_L2SP_218066_20200929_20201006_02_T1\",\n",
            "            \"LC08_L2SP_218067_20200929_20201006_02_T1\",\n",
            "            \"LC08_L2SP_218068_20200929_20201006_02_T1\",\n",
            "            \"LC08_L2SP_218069_20200929_20201006_02_T1\",\n",
            "            \"LC08_L2SP_218070_20200929_20201006_02_T1\",\n",
            "            \"LC08_L2SP_218071_20200929_20201006_02_T1\",\n",
            "            \"LC08_L2SP_218072_20200929_20201006_02_T1\",\n",
            "            \"LC08_L2SP_218073_20200929_20201006_02_T1\",\n",
            "            \"LC08_L2SP_220062_20200927_20201006_02_T1\",\n",
            "            \"LC08_L2SP_220063_20200911_20200919_02_T1\",\n",
            "            \"LC08_L2SP_220064_20200911_20200919_02_T1\",\n",
            "            \"LC08_L2SP_220065_20200927_20201006_02_T1\",\n",
            "            \"LC08_L2SP_220066_20200911_20200919_02_T1\",\n",
            "            \"LC08_L2SP_220067_20200911_20200919_02_T1\",\n",
            "            \"LC08_L2SP_220068_20200911_20200919_02_T1\",\n",
            "            \"LC08_L2SP_220069_20200927_20201006_02_T1\",\n",
            "            \"LC08_L2SP_220070_20200927_20201006_02_T1\",\n",
            "            \"LC08_L2SP_220071_20200927_20201006_02_T1\",\n",
            "            \"LC08_L2SP_220072_20200927_20201006_02_T1\",\n",
            "            \"LC08_L2SP_220073_20200927_20201006_02_T1\"\n",
            "        ]\n",
            "    },\n",
            "    \"projection\": {\n",
            "        \"lonlat\": null\n",
            "    },\n",
            "    \"format\": \"gtiff\",\n",
            "    \"resampling_method\": \"cc\",\n",
            "    \"note\": \"Cenas do Nordeste do Brasil entre 2020-09-09 e 2020-10-11\"\n",
            "}\n",
            "POST /api/v1/order\n",
            "{\n",
            "    \"orderid\": \"espa-ezequiel.assis@itec.ufpa.br-06172022-124753-394\",\n",
            "    \"status\": \"ordered\"\n",
            "}\n"
          ]
        }
      ],
      "source": [
        "l8_prods = ['sr_ndvi']\n",
        "\n",
        "#l8_ls = ['MYD13A1.A2012265.h17v08.006.2015249154919']\n",
        "ls = l8_ls\n",
        "print('GET /api/v1/available-products')\n",
        "order = espa_api('available-products', body=dict(inputs=ls))\n",
        "print((json.dumps(order, indent=4)))\n",
        "\n",
        "\n",
        "order['olitirs8_collection_2_l2']['products'] = l8_prods\n",
        "\n",
        "# Add in the rest of the order information\n",
        "order['projection'] = {'lonlat': None} #projection\n",
        "order['format'] = 'gtiff'\n",
        "order['resampling_method'] = 'cc'\n",
        "order['note'] = f'Cenas do Nordeste do Brasil entre {date_start} e {date_end}'\n",
        "\n",
        "# Notice how it has changed from the original call available-products\n",
        "print((json.dumps(order, indent=4)))\n",
        "\n",
        "# Place the order\n",
        "print('POST /api/v1/order')\n",
        "resp = espa_api('order', verb='post', body=order)\n",
        "print((json.dumps(resp, indent=4)))\n",
        "\n",
        "# Here we cancel an incomplete order\n",
        "\n",
        "#cancel_request = {\"orderid\": orderid, \"status\": \"cancelled\"}\n",
        "#print('PUT /api/v1/order')\n",
        "#order_status = espa_api('order', verb='put', body=cancel_request)\n",
        "#\n",
        "#print((json.dumps(order_status, indent=4)))"
      ]
    },
    {
      "cell_type": "markdown",
      "metadata": {
        "id": "9hCQf8lXNG1z"
      },
      "source": [
        "#**<font color='red'>Analise do status de processamento das requisições e download</font>**"
      ]
    },
    {
      "cell_type": "code",
      "execution_count": 53,
      "metadata": {
        "colab": {
          "base_uri": "https://localhost:8080/",
          "height": 54
        },
        "id": "u_oAprSpLv0U",
        "outputId": "27db3eba-7415-4f71-a248-40504f3e41ad"
      },
      "outputs": [
        {
          "output_type": "display_data",
          "data": {
            "text/plain": [
              "['espa-ezequiel.assis@itec.ufpa.br-06172022-124753-394',\n",
              " 'espa-ezequiel.assis@itec.ufpa.br-06162022-065522-999']"
            ]
          },
          "metadata": {}
        }
      ],
      "source": [
        "filters = {\"status\": [\"complete\", \"ordered\", \"processing\"]}\n",
        "orders = espa_api('list-orders', body=filters)\n",
        "display(orders)\n",
        "\n",
        "order = orders[0] # pega a última solicitação de cenas"
      ]
    },
    {
      "cell_type": "code",
      "execution_count": null,
      "metadata": {
        "id": "qf7gXWrQ5kTc"
      },
      "outputs": [],
      "source": [
        "#cancel_request = {\"orderid\": order, \"status\": \"cancelled\"}\n",
        "#print('PUT /api/v1/order')\n",
        "#order_status = espa_api('order', verb='put', body=cancel_request)\n",
        "#print((json.dumps(order_status, indent=4)))"
      ]
    },
    {
      "cell_type": "markdown",
      "metadata": {
        "id": "idkBMFYzNd6r"
      },
      "source": [
        "##Fazendo donwload e em seguida, a descompactação dos arquivos"
      ]
    },
    {
      "cell_type": "code",
      "execution_count": null,
      "metadata": {
        "id": "Tt3jPP8F4oc_",
        "colab": {
          "base_uri": "https://localhost:8080/"
        },
        "outputId": "08a6f2a1-dbcb-4c83-d67e-33ed194ce461"
      },
      "outputs": [
        {
          "output_type": "stream",
          "name": "stdout",
          "text": [
            "Cloning into 'bulk-downloader'...\n",
            "remote: Enumerating objects: 7510, done.\u001b[K\n",
            "remote: Total 7510 (delta 0), reused 0 (delta 0), pack-reused 7510\u001b[K\n",
            "Receiving objects: 100% (7510/7510), 13.66 MiB | 9.84 MiB/s, done.\n",
            "Resolving deltas: 100% (4988/4988), done.\n"
          ]
        }
      ],
      "source": [
        "!git clone https://code.usgs.gov/espa/bulk-downloader.git bulk-downloader"
      ]
    },
    {
      "cell_type": "markdown",
      "metadata": {
        "id": "n_9UDwPq0_i1"
      },
      "source": [
        "###script bulk download"
      ]
    },
    {
      "cell_type": "code",
      "execution_count": null,
      "metadata": {
        "id": "wUTVp-iY1GqQ",
        "colab": {
          "base_uri": "https://localhost:8080/"
        },
        "outputId": "59fc2c4b-15a8-4222-b91c-be35f1a5fffb"
      },
      "outputs": [
        {
          "output_type": "stream",
          "name": "stdout",
          "text": [
            "3.0.0\n"
          ]
        }
      ],
      "source": [
        "\"\"\"\n",
        "Purpose: A simple python client that will download all available (completed) scenes for\n",
        "         a user order(s).\n",
        "\n",
        "Requires: Standard Python installation. (can also use requests)\n",
        "\"\"\"\n",
        "import argparse\n",
        "import base64\n",
        "import os\n",
        "import random\n",
        "import shutil\n",
        "import sys\n",
        "import platform\n",
        "import time\n",
        "import json\n",
        "import hashlib\n",
        "import logging\n",
        "from getpass import getpass\n",
        "import urllib.request as ul\n",
        "import requests\n",
        "\n",
        "logging.getLogger(\"urllib3\").setLevel(logging.WARNING)\n",
        "\n",
        "def get_version():\n",
        "    with open(\"/content/bulk-downloader/version.txt\") as f:\n",
        "        return print(f.read().strip())\n",
        "\n",
        "version = get_version()\n",
        "LOGGER = logging.getLogger(__name__)\n",
        "USERAGENT = ('EspaBulkDownloader/{v} ({s}) Python/{p}'\n",
        "             .format(v=version, s=platform.platform(aliased=True),\n",
        "                     p=platform.python_version()))\n",
        "\n",
        "class RequestsHandler(object):\n",
        "\n",
        "    def __init__(self, host=''):\n",
        "        self.host = host\n",
        "        self.creds = None\n",
        "        self.headers = {}\n",
        "\n",
        "    def auth(self, username, password):\n",
        "        basic = ('%s:%s' % (username, password)).encode('ascii')\n",
        "        self.creds = (username, password)\n",
        "        self.headers = {\n",
        "                'User-Agent': USERAGENT + ' (Requests/%s)' % requests.__version__\n",
        "        }\n",
        "\n",
        "    def get(self, uri, data=None):\n",
        "        response = requests.get(self.host+uri, json=data,\n",
        "                                headers=self.headers, auth=self.creds)\n",
        "        response.raise_for_status()\n",
        "        results = response.json()\n",
        "        return results\n",
        "\n",
        "    def download(self, uri, target_path, verbose=False):\n",
        "        fileurl = self.host + uri\n",
        "\n",
        "        head = requests.head(fileurl)\n",
        "\n",
        "        file_size = None\n",
        "        if 'Content-Length' in head.headers:\n",
        "            file_size = int(head.headers['Content-Length'])\n",
        "\n",
        "        first_byte, tmp_scene_path = 0, target_path + '.part'\n",
        "        if os.path.exists(tmp_scene_path):\n",
        "            first_byte = os.path.getsize(tmp_scene_path)\n",
        "\n",
        "        self.headers.update({'Range': 'bytes=%d-' % first_byte})\n",
        "        sock = requests.get(fileurl, headers=self.headers, stream=True)\n",
        "\n",
        "        f = open(tmp_scene_path, 'ab')\n",
        "        bytes_in_mb = 1024*1024\n",
        "        for block in sock.iter_content(chunk_size=bytes_in_mb):\n",
        "            if block:\n",
        "                f.write(block)\n",
        "        f.close()\n",
        "\n",
        "        if os.path.getsize(tmp_scene_path) >= file_size:\n",
        "            os.rename(tmp_scene_path, target_path)\n",
        "        return target_path\n",
        "\n",
        "class Api(object):\n",
        "    def __init__(self, username, password, host):\n",
        "        self.handler = RequestsHandler(host)\n",
        "        self.handler.auth(username, password)\n",
        "\n",
        "    def api_request(self, endpoint, data=None):\n",
        "        \"\"\"\n",
        "        Simple method to handle calls to a REST API that uses JSON\n",
        "\n",
        "        args:\n",
        "            endpoint - API endpoint URL\n",
        "            data - Python dictionary to send as JSON to the API\n",
        "\n",
        "        returns:\n",
        "            Python dictionary representation of the API response\n",
        "        \"\"\"\n",
        "        resp = self.handler.get(endpoint, data)\n",
        "        if isinstance(resp, dict):\n",
        "            messages = resp.pop('messages', dict())\n",
        "            if messages.get('errors'):\n",
        "                raise Exception('{}'.format(messages.get('errors')))\n",
        "            if messages.get('warnings'):\n",
        "                LOGGER.warning('{}'.format(messages.get('warnings')))\n",
        "        return resp\n",
        "\n",
        "    def get_completed_scenes(self, orderid):\n",
        "        filters = {'status': 'complete'}\n",
        "        resp = self.api_request('/api/v1/item-status/{0}'.format(orderid),\n",
        "                                data=filters)\n",
        "        if orderid not in resp:\n",
        "            raise Exception('Order ID {} not found'.format(orderid))\n",
        "        urls = [_.get('product_dload_url') for _ in resp[orderid]]\n",
        "        return urls\n",
        "\n",
        "    def retrieve_all_orders(self, email):\n",
        "        filters = {'status': 'complete'}\n",
        "        all_orders = self.api_request('/api/v1/list-orders/{0}'.format(email or ''),\n",
        "                                      data=filters)\n",
        "\n",
        "        return all_orders\n",
        "\n",
        "    def __enter__(self):\n",
        "        return self\n",
        "\n",
        "    def __exit__(self, exc_type, exc_val, exc_tb):\n",
        "        pass\n",
        "\n",
        "\n",
        "class Scene(object):\n",
        "\n",
        "    def __init__(self, srcurl):\n",
        "        self.srcurl = srcurl\n",
        "        self.orderid = self.srcurl.split(\"/\")[4]\n",
        "        self.filename = self.srcurl.split(\"/\")[-1]\n",
        "        self.name = self.filename.split('.tar.gz')[0]\n",
        "        self.cksum_url = self.srcurl.replace('.tar.gz', '.md5')\n",
        "        self.cksum_file = self.filename.replace('.tar.gz', '.md5')\n",
        "        self.cksum_name = '%s MD5 checksum' % self.name\n",
        "\n",
        "\n",
        "class LocalStorage(object):\n",
        "\n",
        "    def __init__(self, basedir, no_order_directories=False, verbose=False):\n",
        "        self.basedir = basedir\n",
        "        self.no_order_directories = no_order_directories\n",
        "        self.verbose = verbose\n",
        "        self.handler = RequestsHandler()\n",
        "\n",
        "    def directory_path(self, scene):\n",
        "        if self.no_order_directories:\n",
        "            path = self.basedir\n",
        "        else:\n",
        "            path = os.path.join(self.basedir, scene.orderid)\n",
        "        if not os.path.exists(path):\n",
        "            os.makedirs(path)\n",
        "            LOGGER.debug(\"Created target_directory: %s \" % path)\n",
        "        return path\n",
        "\n",
        "    def scene_path(self, scene):\n",
        "        return os.path.join(self.directory_path(scene), scene.filename)\n",
        "\n",
        "    def cksum_path(self, scene):\n",
        "        return os.path.join(self.directory_path(scene), scene.cksum_file)\n",
        "\n",
        "    def is_stored(self, scene):\n",
        "        return os.path.exists(self.scene_path(scene))\n",
        "\n",
        "    def store(self, scene, checksum=False, retry=0):\n",
        "        if self.is_stored(scene):\n",
        "            LOGGER.debug('Scene already exists on disk, skipping.')\n",
        "            return\n",
        "\n",
        "        for tries in range(0, retry+1):\n",
        "            LOGGER.debug(\"Downloading %s, to: %s\" % (scene.name, self.directory_path(scene)))\n",
        "            try:\n",
        "                self.handler.download(scene.srcurl, self.scene_path(scene), self.verbose)\n",
        "                if checksum:\n",
        "                    self.handler.download(scene.cksum_url, self.cksum_path(scene), self.verbose)\n",
        "                return\n",
        "            except Exception as exc:\n",
        "                LOGGER.error('Scene not reachable at %s (%s)', scene.srcurl, exc)\n",
        "                time.sleep(random.randint(2, 30))\n",
        "\n",
        "\n",
        "def main(username, email, order, target_directory, password=None, host=None, verbose=False,\n",
        "         checksum=False, retry=0, no_order_directories=False):\n",
        "    if not username:\n",
        "        raise ValueError('Must supply valid username')\n",
        "    if not password:\n",
        "        password = getpass('Password: ')\n",
        "    if not host:\n",
        "        host = 'https://espa.cr.usgs.gov'\n",
        "\n",
        "    storage = LocalStorage(target_directory, no_order_directories)\n",
        "\n",
        "    with Api(username, password, host) as api:\n",
        "        if order == 'ALL':\n",
        "            orders = api.retrieve_all_orders(email)\n",
        "        else:\n",
        "            orders = [order]\n",
        "\n",
        "        LOGGER.debug('Retrieving orders: {0}'.format(orders))\n",
        "\n",
        "        for o in orders:\n",
        "            scenes = api.get_completed_scenes(o)\n",
        "            if len(scenes) < 1:\n",
        "                LOGGER.warning('No scenes in \"completed\" state for order {}'.format(o))\n",
        "\n",
        "            for s in range(len(scenes)):\n",
        "                LOGGER.info('File {0} of {1} for order: {2}'.format(s + 1, len(scenes), o))\n",
        "\n",
        "                scene = Scene(scenes[s])\n",
        "                storage.store(scene, checksum, retry)\n",
        "\n",
        "    #log_level = 'INFO'\n",
        "    #logging.basicConfig(level=log_level, format='%(asctime)s| %(message)s')"
      ]
    },
    {
      "cell_type": "markdown",
      "metadata": {
        "id": "asE_4zwa3CDV"
      },
      "source": [
        "###Download das cenas"
      ]
    },
    {
      "cell_type": "code",
      "execution_count": null,
      "metadata": {
        "id": "fPGn4Hsz3Jp_"
      },
      "outputs": [],
      "source": [
        "target_directory = '/content/order_download'\n",
        "main(username, email, order, target_directory, password=password)"
      ]
    },
    {
      "cell_type": "markdown",
      "metadata": {
        "id": "7i8aY0pl7kcl"
      },
      "source": [
        "###Extract scenes"
      ]
    },
    {
      "cell_type": "code",
      "execution_count": null,
      "metadata": {
        "id": "dcUuMide6XDP"
      },
      "outputs": [],
      "source": [
        "list_scenes = [name for name in os.listdir(f'/content/order_download/{order}') if name[0] != '.' and name[-2:] == 'gz']\n",
        "\n",
        "# extract files\n",
        "for scene in list_scenes:\n",
        "    arquivo = tarfile.open(f'/content/order_download/{order}/{scene}')\n",
        "    members = arquivo.getmembers()\n",
        "    if os.path.exists(f'/content/scene_extracted/{members[6].name}'):\n",
        "        continue\n",
        "    arquivo.extract(members[6].name, path='/content/scene_extracted')\n",
        "    arquivo.close()"
      ]
    },
    {
      "cell_type": "code",
      "execution_count": null,
      "metadata": {
        "id": "kUFxIARg-Ote",
        "colab": {
          "base_uri": "https://localhost:8080/"
        },
        "outputId": "e7a8e29f-49fa-4390-f64f-5382fe26b68e"
      },
      "outputs": [
        {
          "output_type": "stream",
          "name": "stdout",
          "text": [
            "13G\t/content/scene_extracted\n"
          ]
        }
      ],
      "source": [
        "!du -h /content/scene_extracted"
      ]
    }
  ]
}